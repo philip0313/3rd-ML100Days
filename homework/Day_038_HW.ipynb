{
 "cells": [
  {
   "cell_type": "markdown",
   "metadata": {},
   "source": [
    "## [作業重點]\n",
    "使用 Sklearn 中的線性迴歸模型，來訓練各種資料集，務必了解送進去模型訓練的**資料型態**為何，也請了解模型中各項參數的意義"
   ]
  },
  {
   "cell_type": "markdown",
   "metadata": {},
   "source": [
    "## 作業\n",
    "試著使用 sklearn datasets 的其他資料集 (wine, boston, ...)，來訓練自己的線性迴歸模型。"
   ]
  },
  {
   "cell_type": "markdown",
   "metadata": {},
   "source": [
    "### HINT: 注意 label 的型態，確定資料集的目標是分類還是回歸，在使用正確的模型訓練！"
   ]
  },
  {
   "cell_type": "code",
   "execution_count": 15,
   "metadata": {},
   "outputs": [
    {
     "data": {
      "text/plain": [
       "array([18.78797818, 26.85102301, 24.25219038, 22.05317815, 28.31703116,\n",
       "       23.219321  , 21.25353735, 20.98699041, 26.78438627, 15.48945985,\n",
       "       26.78438627, 17.38860677, 26.78438627, 26.2512924 , 26.58447607,\n",
       "       23.68577814, 20.35394144, 26.31792914, 19.32107206, 24.85192099,\n",
       "       24.85192099, 23.0194108 , 20.12071287, 23.98564344, 18.05497411,\n",
       "       18.78797818, 23.68577814, 25.41833323, 26.55448954, 25.68488016,\n",
       "       24.25219038, 23.0194108 , 24.25219038, 20.98699041, 18.78797818,\n",
       "       22.9194557 , 16.48901086, 26.0513822 , 21.78663122, 20.35394144,\n",
       "       16.48901086, 23.219321  , 12.12430478, 16.48901086, 20.68712511,\n",
       "       24.71864752, 24.88523935, 26.88434138, 23.81905161, 20.68712511,\n",
       "       27.38411688, 21.68667612, 20.98699041, 23.0194108 , 25.68488016,\n",
       "       26.78438627, 20.35394144, 27.45075362, 16.48901086, 23.219321  ,\n",
       "       26.51783934, 23.0194108 , 18.05497411, 24.15223528, 20.85371694,\n",
       "       21.68667612, 27.45075362, 12.12430478, 20.98699041, 26.58447607,\n",
       "       23.219321  , 26.58447607, 17.22201493, 12.12430478, 25.51828833,\n",
       "       26.21797403, 26.41788424, 27.28082994, 20.35394144, 23.98564344,\n",
       "       15.48945985, 26.78438627, 18.88793329, 19.58761899, 26.0513822 ,\n",
       "       19.58761899, 21.25353735, 21.71999448, 16.48901086, 24.35214548,\n",
       "       17.82174554, 17.82174554, 18.05497411, 19.58761899, 27.51739035,\n",
       "       17.22201493, 25.68488016, 17.38860677, 27.65066382, 18.78797818,\n",
       "       23.219321  , 24.85192099])"
      ]
     },
     "execution_count": 15,
     "metadata": {},
     "output_type": "execute_result"
    }
   ],
   "source": [
    "import numpy as np\n",
    "import matplotlib.pyplot as plt\n",
    "from sklearn import datasets, linear_model\n",
    "from sklearn.model_selection import train_test_split\n",
    "from sklearn.metrics import mean_squared_error, r2_score, accuracy_score\n",
    "\n",
    "Boston=datasets.load_boston()\n",
    "X=Boston.data[:,np.newaxis,4]\n",
    "\n",
    "x_train, x_test, y_train, y_test = train_test_split(X, Boston.target, test_size=0.2, random_state=6)\n",
    "\n",
    "lr=linear_model.LinearRegression()\n",
    "lr.fit(x_train,y_train)\n",
    "\n",
    "y_pred=lr.predict(x_test)\n",
    "\n",
    "y_pred"
   ]
  },
  {
   "cell_type": "code",
   "execution_count": 13,
   "metadata": {},
   "outputs": [
    {
     "data": {
      "image/png": "[encoded data removed]",
      "text/plain": [
       "<Figure size 432x288 with 1 Axes>"
      ]
     },
     "metadata": {
      "needs_background": "light"
     },
     "output_type": "display_data"
    }
   ],
   "source": [
    "plt.scatter(x_test,y_test,color='black')\n",
    "plt.plot(x_test,y_pred,color='blue')             \n",
    "plt.show()"
   ]
  },
  {
   "cell_type": "code",
   "execution_count": 19,
   "metadata": {},
   "outputs": [
    {
     "data": {
      "text/plain": [
       "array([[1.        , 0.17526018],\n",
       "       [0.17526018, 1.        ]])"
      ]
     },
     "execution_count": 19,
     "metadata": {},
     "output_type": "execute_result"
    }
   ],
   "source": [
    "np.corrcoef(Boston.data[:,3],Boston.target)"
   ]
  },
  {
   "cell_type": "code",
   "execution_count": 30,
   "metadata": {},
   "outputs": [
    {
     "name": "stdout",
     "output_type": "stream",
     "text": [
      "[0 1 1 1 0 0 1 1 1 0 0 1 2 0 1 0 0 0 2 1 2 2 0 0 1 1 1 2 2 1 0 2 2 1 0 2]\n",
      "[1 1 1 1 0 1 1 1 1 1 0 0 1 0 1 0 1 1 0 1 1 0 1 0 1 1 0 1 1 1 1 1 0 1 0 1]\n"
     ]
    }
   ],
   "source": [
    "Wine=datasets.load_wine()\n",
    "Wine\n",
    "X2=Wine.data[:,np.newaxis,4]\n",
    "x2_train, x2_test, y2_train, y2_test = train_test_split(X2, Wine.target, test_size=0.2, random_state=6)\n",
    "logiregr=linear_model.LogisticRegression(solver='newton-cg',multi_class='multinomial')\n",
    "logiregr.fit(x2_train,y2_train)\n",
    "y2_pred=logiregr.predict(x2_test)\n",
    "print(y2_test)\n",
    "print(y2_pred)"
   ]
  },
  {
   "cell_type": "code",
   "execution_count": 31,
   "metadata": {},
   "outputs": [
    {
     "name": "stdout",
     "output_type": "stream",
     "text": [
      "0.5\n"
     ]
    }
   ],
   "source": [
    "acc = accuracy_score(y2_test, y2_pred)\n",
    "print(acc)"
   ]
  },
  {
   "cell_type": "code",
   "execution_count": null,
   "metadata": {},
   "outputs": [],
   "source": []
  }
 ],
 "metadata": {
  "kernelspec": {
   "display_name": "Python 3",
   "language": "python",
   "name": "python3"
  },
  "language_info": {
   "codemirror_mode": {
    "name": "ipython",
    "version": 3
   },
   "file_extension": ".py",
   "mimetype": "text/x-python",
   "name": "python",
   "nbconvert_exporter": "python",
   "pygments_lexer": "ipython3",
   "version": "3.7.3"
  }
 },
 "nbformat": 4,
 "nbformat_minor": 2
}
