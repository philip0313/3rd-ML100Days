{
 "cells": [
  {
   "cell_type": "markdown",
   "metadata": {
    "collapsed": true
   },
   "source": [
    "# 作業 : (Kaggle)鐵達尼生存預測"
   ]
  },
  {
   "cell_type": "markdown",
   "metadata": {},
   "source": [
    "# [作業目標]\n",
    "- 試著完成三種不同特徵類型的三種資料操作, 觀察結果\n",
    "- 思考一下, 這三種特徵類型, 哪一種應該最複雜/最難處理"
   ]
  },
  {
   "cell_type": "markdown",
   "metadata": {},
   "source": [
    "# [作業重點]\n",
    "- 完成剩餘的八種 類型 x 操作組合 (In[6]~In[13], Out[6]~Out[13])\n",
    "- 思考何種特徵類型, 應該最複雜"
   ]
  },
  {
   "cell_type": "code",
   "execution_count": 10,
   "metadata": {},
   "outputs": [
    {
     "data": {
      "text/plain": [
       "(891, 12)"
      ]
     },
     "execution_count": 10,
     "metadata": {},
     "output_type": "execute_result"
    }
   ],
   "source": [
    "# 載入基本套件\n",
    "import pandas as pd\n",
    "import numpy as np\n",
    "\n",
    "# 讀取訓練與測試資料\n",
    "data_path = 'D:\\Philip\\100daysAI\\part2/'\n",
    "df_train = pd.read_csv('D:/Philip/100daysAI/part2/titanic_train.csv')#最好都用斜線，不要用反斜線\n",
    "df_test = pd.read_csv('D:/Philip/100daysAI/part2/titanic_test.csv')\n",
    "df_train.shape"
   ]
  },
  {
   "cell_type": "code",
   "execution_count": 11,
   "metadata": {},
   "outputs": [
    {
     "name": "stdout",
     "output_type": "stream",
     "text": [
      "     Pclass                                               Name     Sex   Age  \\\n",
      "0         3                            Braund, Mr. Owen Harris    male  22.0   \n",
      "1         1  Cumings, Mrs. John Bradley (Florence Briggs Th...  female  38.0   \n",
      "2         3                             Heikkinen, Miss. Laina  female  26.0   \n",
      "3         1       Futrelle, Mrs. Jacques Heath (Lily May Peel)  female  35.0   \n",
      "4         3                           Allen, Mr. William Henry    male  35.0   \n",
      "5         3                                   Moran, Mr. James    male   NaN   \n",
      "6         1                            McCarthy, Mr. Timothy J    male  54.0   \n",
      "7         3                     Palsson, Master. Gosta Leonard    male   2.0   \n",
      "8         3  Johnson, Mrs. Oscar W (Elisabeth Vilhelmina Berg)  female  27.0   \n",
      "9         2                Nasser, Mrs. Nicholas (Adele Achem)  female  14.0   \n",
      "10        3                    Sandstrom, Miss. Marguerite Rut  female   4.0   \n",
      "11        1                           Bonnell, Miss. Elizabeth  female  58.0   \n",
      "12        3                     Saundercock, Mr. William Henry    male  20.0   \n",
      "13        3                        Andersson, Mr. Anders Johan    male  39.0   \n",
      "14        3               Vestrom, Miss. Hulda Amanda Adolfina  female  14.0   \n",
      "15        2                   Hewlett, Mrs. (Mary D Kingcome)   female  55.0   \n",
      "16        3                               Rice, Master. Eugene    male   2.0   \n",
      "17        2                       Williams, Mr. Charles Eugene    male   NaN   \n",
      "18        3  Vander Planke, Mrs. Julius (Emelia Maria Vande...  female  31.0   \n",
      "19        3                            Masselmani, Mrs. Fatima  female   NaN   \n",
      "20        2                               Fynney, Mr. Joseph J    male  35.0   \n",
      "21        2                              Beesley, Mr. Lawrence    male  34.0   \n",
      "22        3                        McGowan, Miss. Anna \"Annie\"  female  15.0   \n",
      "23        1                       Sloper, Mr. William Thompson    male  28.0   \n",
      "24        3                      Palsson, Miss. Torborg Danira  female   8.0   \n",
      "25        3  Asplund, Mrs. Carl Oscar (Selma Augusta Emilia...  female  38.0   \n",
      "26        3                            Emir, Mr. Farred Chehab    male   NaN   \n",
      "27        1                     Fortune, Mr. Charles Alexander    male  19.0   \n",
      "28        3                      O'Dwyer, Miss. Ellen \"Nellie\"  female   NaN   \n",
      "29        3                                Todoroff, Mr. Lalio    male   NaN   \n",
      "..      ...                                                ...     ...   ...   \n",
      "388       3                               Canavan, Mr. Patrick    male  21.0   \n",
      "389       3                        Palsson, Master. Paul Folke    male   6.0   \n",
      "390       1                         Payne, Mr. Vivian Ponsonby    male  23.0   \n",
      "391       1     Lines, Mrs. Ernest H (Elizabeth Lindsey James)  female  51.0   \n",
      "392       3                      Abbott, Master. Eugene Joseph    male  13.0   \n",
      "393       2                               Gilbert, Mr. William    male  47.0   \n",
      "394       3                           Kink-Heilmann, Mr. Anton    male  29.0   \n",
      "395       1     Smith, Mrs. Lucien Philip (Mary Eloise Hughes)  female  18.0   \n",
      "396       3                               Colbert, Mr. Patrick    male  24.0   \n",
      "397       1  Frolicher-Stehli, Mrs. Maxmillian (Margaretha ...  female  48.0   \n",
      "398       3                     Larsson-Rondberg, Mr. Edvard A    male  22.0   \n",
      "399       3                           Conlon, Mr. Thomas Henry    male  31.0   \n",
      "400       1                            Bonnell, Miss. Caroline  female  30.0   \n",
      "401       2                                    Gale, Mr. Harry    male  38.0   \n",
      "402       1                     Gibson, Miss. Dorothy Winifred  female  22.0   \n",
      "403       1                             Carrau, Mr. Jose Pedro    male  17.0   \n",
      "404       1                       Frauenthal, Mr. Isaac Gerald    male  43.0   \n",
      "405       2       Nourney, Mr. Alfred (Baron von Drachstedt\")\"    male  20.0   \n",
      "406       2                          Ware, Mr. William Jeffery    male  23.0   \n",
      "407       1                         Widener, Mr. George Dunton    male  50.0   \n",
      "408       3                    Riordan, Miss. Johanna Hannah\"\"  female   NaN   \n",
      "409       3                          Peacock, Miss. Treasteall  female   3.0   \n",
      "410       3                             Naughton, Miss. Hannah  female   NaN   \n",
      "411       1    Minahan, Mrs. William Edward (Lillian E Thorpe)  female  37.0   \n",
      "412       3                     Henriksson, Miss. Jenny Lovisa  female  28.0   \n",
      "413       3                                 Spector, Mr. Woolf    male   NaN   \n",
      "414       1                       Oliva y Ocana, Dona. Fermina  female  39.0   \n",
      "415       3                       Saether, Mr. Simon Sivertsen    male  38.5   \n",
      "416       3                                Ware, Mr. Frederick    male   NaN   \n",
      "417       3                           Peter, Master. Michael J    male   NaN   \n",
      "\n",
      "     SibSp  Parch              Ticket      Fare        Cabin Embarked  \n",
      "0        1      0           A/5 21171    7.2500          NaN        S  \n",
      "1        1      0            PC 17599   71.2833          C85        C  \n",
      "2        0      0    STON/O2. 3101282    7.9250          NaN        S  \n",
      "3        1      0              113803   53.1000         C123        S  \n",
      "4        0      0              373450    8.0500          NaN        S  \n",
      "5        0      0              330877    8.4583          NaN        Q  \n",
      "6        0      0               17463   51.8625          E46        S  \n",
      "7        3      1              349909   21.0750          NaN        S  \n",
      "8        0      2              347742   11.1333          NaN        S  \n",
      "9        1      0              237736   30.0708          NaN        C  \n",
      "10       1      1             PP 9549   16.7000           G6        S  \n",
      "11       0      0              113783   26.5500         C103        S  \n",
      "12       0      0           A/5. 2151    8.0500          NaN        S  \n",
      "13       1      5              347082   31.2750          NaN        S  \n",
      "14       0      0              350406    7.8542          NaN        S  \n",
      "15       0      0              248706   16.0000          NaN        S  \n",
      "16       4      1              382652   29.1250          NaN        Q  \n",
      "17       0      0              244373   13.0000          NaN        S  \n",
      "18       1      0              345763   18.0000          NaN        S  \n",
      "19       0      0                2649    7.2250          NaN        C  \n",
      "20       0      0              239865   26.0000          NaN        S  \n",
      "21       0      0              248698   13.0000          D56        S  \n",
      "22       0      0              330923    8.0292          NaN        Q  \n",
      "23       0      0              113788   35.5000           A6        S  \n",
      "24       3      1              349909   21.0750          NaN        S  \n",
      "25       1      5              347077   31.3875          NaN        S  \n",
      "26       0      0                2631    7.2250          NaN        C  \n",
      "27       3      2               19950  263.0000  C23 C25 C27        S  \n",
      "28       0      0              330959    7.8792          NaN        Q  \n",
      "29       0      0              349216    7.8958          NaN        S  \n",
      "..     ...    ...                 ...       ...          ...      ...  \n",
      "388      0      0              364858    7.7500          NaN        Q  \n",
      "389      3      1              349909   21.0750          NaN        S  \n",
      "390      0      0               12749   93.5000          B24        S  \n",
      "391      0      1            PC 17592   39.4000          D28        S  \n",
      "392      0      2           C.A. 2673   20.2500          NaN        S  \n",
      "393      0      0          C.A. 30769   10.5000          NaN        S  \n",
      "394      3      1              315153   22.0250          NaN        S  \n",
      "395      1      0               13695   60.0000          C31        S  \n",
      "396      0      0              371109    7.2500          NaN        Q  \n",
      "397      1      1               13567   79.2000          B41        C  \n",
      "398      0      0              347065    7.7750          NaN        S  \n",
      "399      0      0               21332    7.7333          NaN        Q  \n",
      "400      0      0               36928  164.8667           C7        S  \n",
      "401      1      0               28664   21.0000          NaN        S  \n",
      "402      0      1              112378   59.4000          NaN        C  \n",
      "403      0      0              113059   47.1000          NaN        S  \n",
      "404      1      0               17765   27.7208          D40        C  \n",
      "405      0      0       SC/PARIS 2166   13.8625          D38        C  \n",
      "406      1      0               28666   10.5000          NaN        S  \n",
      "407      1      1              113503  211.5000          C80        C  \n",
      "408      0      0              334915    7.7208          NaN        Q  \n",
      "409      1      1  SOTON/O.Q. 3101315   13.7750          NaN        S  \n",
      "410      0      0              365237    7.7500          NaN        Q  \n",
      "411      1      0               19928   90.0000          C78        Q  \n",
      "412      0      0              347086    7.7750          NaN        S  \n",
      "413      0      0           A.5. 3236    8.0500          NaN        S  \n",
      "414      0      0            PC 17758  108.9000         C105        C  \n",
      "415      0      0  SOTON/O.Q. 3101262    7.2500          NaN        S  \n",
      "416      0      0              359309    8.0500          NaN        S  \n",
      "417      1      1                2668   22.3583          NaN        C  \n",
      "\n",
      "[1309 rows x 10 columns]\n"
     ]
    }
   ],
   "source": [
    "# 重組資料成為訓練 / 預測用格式\n",
    "train_Y = df_train['Survived']\n",
    "ids = df_test['PassengerId']\n",
    "df_train = df_train.drop(['PassengerId', 'Survived'] , axis=1)#拿掉passengerId及survived\n",
    "df_test = df_test.drop(['PassengerId'] , axis=1)\n",
    "df = pd.concat([df_train,df_test])\n",
    "#df.head()\n",
    "print(df)"
   ]
  },
  {
   "cell_type": "code",
   "execution_count": 29,
   "metadata": {},
   "outputs": [
    {
     "name": "stdout",
     "output_type": "stream",
     "text": [
      "      index        0\n",
      "0    Pclass    int64\n",
      "1      Name   object\n",
      "2       Sex   object\n",
      "3       Age  float64\n",
      "4     SibSp    int64\n",
      "5     Parch    int64\n",
      "6    Ticket   object\n",
      "7      Fare  float64\n",
      "8     Cabin   object\n",
      "9  Embarked   object\n",
      "      Count Column Type\n",
      "0    Pclass       int64\n",
      "1      Name      object\n",
      "2       Sex      object\n",
      "3       Age     float64\n",
      "4     SibSp       int64\n",
      "5     Parch       int64\n",
      "6    Ticket      object\n",
      "7      Fare     float64\n",
      "8     Cabin      object\n",
      "9  Embarked      object\n"
     ]
    },
    {
     "data": {
      "text/html": [
       "<div>\n",
       "<style scoped>\n",
       "    .dataframe tbody tr th:only-of-type {\n",
       "        vertical-align: middle;\n",
       "    }\n",
       "\n",
       "    .dataframe tbody tr th {\n",
       "        vertical-align: top;\n",
       "    }\n",
       "\n",
       "    .dataframe thead th {\n",
       "        text-align: right;\n",
       "    }\n",
       "</style>\n",
       "<table border=\"1\" class=\"dataframe\">\n",
       "  <thead>\n",
       "    <tr style=\"text-align: right;\">\n",
       "      <th></th>\n",
       "      <th>Column Type</th>\n",
       "      <th>Count</th>\n",
       "    </tr>\n",
       "  </thead>\n",
       "  <tbody>\n",
       "    <tr>\n",
       "      <th>0</th>\n",
       "      <td>int64</td>\n",
       "      <td>3</td>\n",
       "    </tr>\n",
       "    <tr>\n",
       "      <th>1</th>\n",
       "      <td>float64</td>\n",
       "      <td>2</td>\n",
       "    </tr>\n",
       "    <tr>\n",
       "      <th>2</th>\n",
       "      <td>object</td>\n",
       "      <td>5</td>\n",
       "    </tr>\n",
       "  </tbody>\n",
       "</table>\n",
       "</div>"
      ],
      "text/plain": [
       "  Column Type  Count\n",
       "0       int64      3\n",
       "1     float64      2\n",
       "2      object      5"
      ]
     },
     "execution_count": 29,
     "metadata": {},
     "output_type": "execute_result"
    }
   ],
   "source": [
    "# 秀出資料欄位的類型與數量\n",
    "dtype_df = df.dtypes.reset_index()#用資料類型來重設這個dataframe\n",
    "print(dtype_df)\n",
    "dtype_df.columns = [\"Count\", \"Column Type\"]\n",
    "print(dtype_df)\n",
    "dtype_df = dtype_df.groupby(\"Column Type\").aggregate('count').reset_index()\n",
    "dtype_df"
   ]
  },
  {
   "cell_type": "code",
   "execution_count": 17,
   "metadata": {},
   "outputs": [
    {
     "name": "stdout",
     "output_type": "stream",
     "text": [
      "3 Integer Features : ['Pclass', 'SibSp', 'Parch']\n",
      "\n",
      "2 Float Features : ['Age', 'Fare']\n",
      "\n",
      "5 Object Features : ['Name', 'Sex', 'Ticket', 'Cabin', 'Embarked']\n"
     ]
    }
   ],
   "source": [
    "#確定只有 int64, float64, object 三種類型後, 分別將欄位名稱存於三個 list 中\n",
    "int_features = []\n",
    "float_features = []\n",
    "object_features = []\n",
    "for dtype, feature in zip(df.dtypes, df.columns):\n",
    "    if dtype == 'float64':\n",
    "        float_features.append(feature)\n",
    "    elif dtype == 'int64':\n",
    "        int_features.append(feature)\n",
    "    else:\n",
    "        object_features.append(feature)\n",
    "print(f'{len(int_features)} Integer Features : {int_features}\\n')\n",
    "print(f'{len(float_features)} Float Features : {float_features}\\n')\n",
    "print(f'{len(object_features)} Object Features : {object_features}')"
   ]
  },
  {
   "cell_type": "markdown",
   "metadata": {
    "collapsed": true
   },
   "source": [
    "# 作業1 \n",
    "* 試著執行作業程式，觀察三種類型 (int / float / object) 的欄位分別進行( 平均 mean / 最大值 Max / 相異值 nunique )  \n",
    "中的九次操作會有那些問題? 並試著解釋那些發生Error的程式區塊的原因?  \n",
    "\n",
    "在一般操作的時候，int跟float都是數值的關係，所以操錯都沒什麼問題\n",
    "但是object那邊，卻很有問題，因為object沒有明確定義出一個數值，所以沒辦法去做這類的計算\n",
    "\n",
    "\n",
    "\n",
    "# 作業2\n",
    "* 思考一下，試著舉出今天五種類型以外的一種或多種資料類型，你舉出的新類型是否可以歸在三大類中的某些大類?  \n",
    "所以三大類特徵中，哪一大類處理起來應該最複雜?"
   ]
  },
  {
   "cell_type": "code",
   "execution_count": 22,
   "metadata": {},
   "outputs": [
    {
     "data": {
      "text/plain": [
       "Pclass    3\n",
       "SibSp     7\n",
       "Parch     8\n",
       "dtype: int64"
      ]
     },
     "execution_count": 22,
     "metadata": {},
     "output_type": "execute_result"
    }
   ],
   "source": [
    "# 例 : 整數 (int) 特徵取平均 (mean)\n",
    "df[int_features].mean()\n",
    "df[int_features].max()\n",
    "df[int_features].nunique()"
   ]
  },
  {
   "cell_type": "code",
   "execution_count": 19,
   "metadata": {},
   "outputs": [
    {
     "data": {
      "text/plain": [
       "Age     29.881138\n",
       "Fare    33.295479\n",
       "dtype: float64"
      ]
     },
     "execution_count": 19,
     "metadata": {},
     "output_type": "execute_result"
    }
   ],
   "source": [
    "# 請依序列出 三種特徵類型 (int / float / object) x 三種方法 (平均 mean / 最大值 Max / 相異值 nunique) 的其餘操作\n",
    "\"\"\"\n",
    "Your Code Here\n",
    "\"\"\"\n",
    "\n",
    "df[float_features].mean()"
   ]
  },
  {
   "cell_type": "code",
   "execution_count": 20,
   "metadata": {},
   "outputs": [
    {
     "data": {
      "text/plain": [
       "Series([], dtype: float64)"
      ]
     },
     "execution_count": 20,
     "metadata": {},
     "output_type": "execute_result"
    }
   ],
   "source": [
    "df[object_features].mean()"
   ]
  },
  {
   "cell_type": "code",
   "execution_count": 21,
   "metadata": {},
   "outputs": [
    {
     "data": {
      "text/plain": [
       "Pclass    3\n",
       "SibSp     8\n",
       "Parch     9\n",
       "dtype: int64"
      ]
     },
     "execution_count": 21,
     "metadata": {},
     "output_type": "execute_result"
    }
   ],
   "source": [
    "df[int_features].max()"
   ]
  },
  {
   "cell_type": "code",
   "execution_count": 23,
   "metadata": {},
   "outputs": [
    {
     "data": {
      "text/plain": [
       "Pclass    3\n",
       "SibSp     7\n",
       "Parch     8\n",
       "dtype: int64"
      ]
     },
     "execution_count": 23,
     "metadata": {},
     "output_type": "execute_result"
    }
   ],
   "source": [
    "df[int_features].nunique()"
   ]
  },
  {
   "cell_type": "code",
   "execution_count": 24,
   "metadata": {},
   "outputs": [
    {
     "data": {
      "text/plain": [
       "Age      80.0000\n",
       "Fare    512.3292\n",
       "dtype: float64"
      ]
     },
     "execution_count": 24,
     "metadata": {},
     "output_type": "execute_result"
    }
   ],
   "source": [
    "df[float_features].max()"
   ]
  },
  {
   "cell_type": "code",
   "execution_count": 25,
   "metadata": {},
   "outputs": [
    {
     "data": {
      "text/plain": [
       "Age      98\n",
       "Fare    281\n",
       "dtype: int64"
      ]
     },
     "execution_count": 25,
     "metadata": {},
     "output_type": "execute_result"
    }
   ],
   "source": [
    "df[float_features].nunique()"
   ]
  },
  {
   "cell_type": "code",
   "execution_count": 26,
   "metadata": {},
   "outputs": [
    {
     "data": {
      "text/plain": [
       "Name      van Melkebeke, Mr. Philemon\n",
       "Sex                              male\n",
       "Ticket                      WE/P 5735\n",
       "dtype: object"
      ]
     },
     "execution_count": 26,
     "metadata": {},
     "output_type": "execute_result"
    }
   ],
   "source": [
    "df[object_features].max()"
   ]
  },
  {
   "cell_type": "code",
   "execution_count": 27,
   "metadata": {},
   "outputs": [
    {
     "data": {
      "text/plain": [
       "Name        1307\n",
       "Sex            2\n",
       "Ticket       929\n",
       "Cabin        186\n",
       "Embarked       3\n",
       "dtype: int64"
      ]
     },
     "execution_count": 27,
     "metadata": {},
     "output_type": "execute_result"
    }
   ],
   "source": [
    "df[object_features].nunique()"
   ]
  },
  {
   "cell_type": "code",
   "execution_count": null,
   "metadata": {},
   "outputs": [],
   "source": []
  }
 ],
 "metadata": {
  "kernelspec": {
   "display_name": "Python 3",
   "language": "python",
   "name": "python3"
  },
  "language_info": {
   "codemirror_mode": {
    "name": "ipython",
    "version": 3
   },
   "file_extension": ".py",
   "mimetype": "text/x-python",
   "name": "python",
   "nbconvert_exporter": "python",
   "pygments_lexer": "ipython3",
   "version": "3.7.3"
  }
 },
 "nbformat": 4,
 "nbformat_minor": 2
}
